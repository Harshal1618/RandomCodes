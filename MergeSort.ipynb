{
  "nbformat": 4,
  "nbformat_minor": 0,
  "metadata": {
    "colab": {
      "name": "MergeSort.ipynb",
      "provenance": [],
      "include_colab_link": true
    },
    "kernelspec": {
      "name": "python3",
      "display_name": "Python 3"
    }
  },
  "cells": [
    {
      "cell_type": "markdown",
      "metadata": {
        "id": "view-in-github",
        "colab_type": "text"
      },
      "source": [
        "<a href=\"https://colab.research.google.com/github/Harshal1618/RandomCodes/blob/master/MergeSort.ipynb\" target=\"_parent\"><img src=\"https://colab.research.google.com/assets/colab-badge.svg\" alt=\"Open In Colab\"/></a>"
      ]
    },
    {
      "cell_type": "code",
      "metadata": {
        "id": "kIZK6DP-7a_F",
        "colab_type": "code",
        "outputId": "f421871a-6ae0-45b5-f39f-b0336bd8cea1",
        "colab": {
          "base_uri": "https://localhost:8080/",
          "height": 891
        }
      },
      "source": [
        "def mergeSort(alist):\n",
        "    print(\"Splitting \",alist)\n",
        "    if len(alist)>1:\n",
        "        mid = len(alist)//2\n",
        "        lefthalf = alist[:mid]\n",
        "        print(\"lefthalf \",lefthalf)\n",
        "        righthalf = alist[mid:]\n",
        "        print(\"righthalf \",righthalf)\n",
        "\n",
        "        mergeSort(lefthalf)\n",
        "        mergeSort(righthalf)\n",
        "\n",
        "        i=0\n",
        "        j=0\n",
        "        k=0\n",
        "        while i < len(lefthalf) and j < len(righthalf):\n",
        "            if lefthalf[i] <= righthalf[j]:\n",
        "                alist[k]=lefthalf[i]\n",
        "                i=i+1\n",
        "            else:\n",
        "                alist[k]=righthalf[j]\n",
        "                j=j+1\n",
        "            k=k+1\n",
        "\n",
        "        while i < len(lefthalf):\n",
        "            alist[k]=lefthalf[i]\n",
        "            i=i+1\n",
        "            k=k+1\n",
        "\n",
        "        while j < len(righthalf):\n",
        "            alist[k]=righthalf[j]\n",
        "            j=j+1\n",
        "            k=k+1\n",
        "    print(\"Merging \",alist)\n",
        "\n",
        "alist = [54,26,93,17,77,31,44,55,20]\n",
        "mergeSort(alist)\n",
        "print(alist)\n"
      ],
      "execution_count": 0,
      "outputs": [
        {
          "output_type": "stream",
          "text": [
            "Splitting  [54, 26, 93, 17, 77, 31, 44, 55, 20]\n",
            "lefthalf  [54, 26, 93, 17]\n",
            "righthalf  [77, 31, 44, 55, 20]\n",
            "Splitting  [54, 26, 93, 17]\n",
            "lefthalf  [54, 26]\n",
            "righthalf  [93, 17]\n",
            "Splitting  [54, 26]\n",
            "lefthalf  [54]\n",
            "righthalf  [26]\n",
            "Splitting  [54]\n",
            "Merging  [54]\n",
            "Splitting  [26]\n",
            "Merging  [26]\n",
            "Merging  [26, 54]\n",
            "Splitting  [93, 17]\n",
            "lefthalf  [93]\n",
            "righthalf  [17]\n",
            "Splitting  [93]\n",
            "Merging  [93]\n",
            "Splitting  [17]\n",
            "Merging  [17]\n",
            "Merging  [17, 93]\n",
            "Merging  [17, 26, 54, 93]\n",
            "Splitting  [77, 31, 44, 55, 20]\n",
            "lefthalf  [77, 31]\n",
            "righthalf  [44, 55, 20]\n",
            "Splitting  [77, 31]\n",
            "lefthalf  [77]\n",
            "righthalf  [31]\n",
            "Splitting  [77]\n",
            "Merging  [77]\n",
            "Splitting  [31]\n",
            "Merging  [31]\n",
            "Merging  [31, 77]\n",
            "Splitting  [44, 55, 20]\n",
            "lefthalf  [44]\n",
            "righthalf  [55, 20]\n",
            "Splitting  [44]\n",
            "Merging  [44]\n",
            "Splitting  [55, 20]\n",
            "lefthalf  [55]\n",
            "righthalf  [20]\n",
            "Splitting  [55]\n",
            "Merging  [55]\n",
            "Splitting  [20]\n",
            "Merging  [20]\n",
            "Merging  [20, 55]\n",
            "Merging  [20, 44, 55]\n",
            "Merging  [20, 31, 44, 55, 77]\n",
            "Merging  [17, 20, 26, 31, 44, 54, 55, 77, 93]\n",
            "[17, 20, 26, 31, 44, 54, 55, 77, 93]\n"
          ],
          "name": "stdout"
        }
      ]
    }
  ]
}